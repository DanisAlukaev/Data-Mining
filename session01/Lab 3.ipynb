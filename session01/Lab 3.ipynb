{
 "cells": [
  {
   "cell_type": "markdown",
   "id": "8196486e",
   "metadata": {},
   "source": [
    "## Solution for Lab 3\n",
    "\n",
    "Data Mining course <br>\n",
    "Student: Danis Alukaev <br>\n",
    "Email: d.alukaev@innopolis.university <br> \n",
    "Group: B19-DS-01 <br>"
   ]
  },
  {
   "cell_type": "markdown",
   "id": "ae78b3fb",
   "metadata": {},
   "source": [
    "### 0. Prerequisites"
   ]
  },
  {
   "cell_type": "code",
   "execution_count": 1,
   "id": "91695ad7",
   "metadata": {},
   "outputs": [],
   "source": [
    "import pandas as pd\n",
    "import numpy as np\n",
    "import itertools\n",
    "\n",
    "from sklearn.model_selection import train_test_split\n",
    "from sklearn.decomposition import PCA\n",
    "from sklearn.preprocessing import OneHotEncoder\n",
    "from catboost import CatBoostClassifier\n",
    "from sklearn.metrics import balanced_accuracy_score\n",
    "\n",
    "import warnings\n",
    "warnings.filterwarnings(\"ignore\")"
   ]
  },
  {
   "cell_type": "markdown",
   "id": "ee36bf3e",
   "metadata": {},
   "source": [
    "### 1. Data Preparation"
   ]
  },
  {
   "cell_type": "code",
   "execution_count": 2,
   "id": "261286ac",
   "metadata": {},
   "outputs": [],
   "source": [
    "def load_data(sample=None):\n",
    "    df = pd.read_csv(\"./data/completed_orders.csv\")\n",
    "    if sample:\n",
    "        size = int(len(df) * sample)\n",
    "        df = df.sample(n=size)\n",
    "    return df"
   ]
  },
  {
   "cell_type": "code",
   "execution_count": 3,
   "id": "62f5fd53",
   "metadata": {},
   "outputs": [],
   "source": [
    "def get_map():\n",
    "    data = pd.read_csv(\"./data/completed_orders.csv\")\n",
    "    df = data.copy()[[\"StockCode\", \"Description\"]]\n",
    "    df.drop_duplicates(inplace=True)\n",
    "    df = df.set_index(\"StockCode\")\n",
    "    return df"
   ]
  },
  {
   "cell_type": "code",
   "execution_count": 4,
   "id": "94700e55",
   "metadata": {},
   "outputs": [],
   "source": [
    "def get_all_combinations(df, sample=None):\n",
    "    all_stockcodes, all_customers = set(df[\"StockCode\"].to_numpy()), set(df[\"CustomerID\"].to_numpy())\n",
    "    all_combinations = np.array(list(itertools.product(all_customers, all_stockcodes)))\n",
    "    all_combinations = pd.DataFrame(data=all_combinations, columns=[\"CustomerID\", \"StockCode\"])\n",
    "    if sample:\n",
    "        size = int(len(all_combinations) * sample)\n",
    "        all_combinations = all_combinations.sample(n=size)\n",
    "    return all_combinations"
   ]
  },
  {
   "cell_type": "code",
   "execution_count": 5,
   "id": "8f3ead31",
   "metadata": {},
   "outputs": [],
   "source": [
    "def split_data(df, all_combinations):\n",
    "    train, test = train_test_split(df, test_size=0.2, shuffle=False)\n",
    "    train[\"Reorder\"], test[\"Reorder\"] = 1, 1\n",
    "    train = pd.merge(train, all_combinations, how=\"outer\", on=[\"CustomerID\", \"StockCode\"]).fillna(0)\n",
    "    test = pd.merge(test, all_combinations, how=\"outer\", on=[\"CustomerID\", \"StockCode\"]).fillna(0)\n",
    "    train.drop_duplicates(inplace=True)\n",
    "    test.drop_duplicates(inplace=True)\n",
    "    train = train.sample(frac=1.0)\n",
    "    test = test.sample(frac=1.0)\n",
    "    return train, test"
   ]
  },
  {
   "cell_type": "code",
   "execution_count": 6,
   "id": "ef734d61",
   "metadata": {},
   "outputs": [],
   "source": [
    "df = load_data(sample=0.1)\n",
    "data = df.copy()[[\"CustomerID\", \"StockCode\", \"Year\", \"Month\", \"Day\", \"Hour\", \"Holiday\", \"Country\"]]\n",
    "all_combinations = get_all_combinations(data, sample=0.05)\n",
    "train, test = split_data(data, all_combinations)"
   ]
  },
  {
   "cell_type": "markdown",
   "id": "1acd7a28",
   "metadata": {},
   "source": [
    "### 2. PCA"
   ]
  },
  {
   "cell_type": "code",
   "execution_count": 7,
   "id": "9480dff7",
   "metadata": {},
   "outputs": [],
   "source": [
    "def encode_data(df):\n",
    "    X, y = df[[\"CustomerID\", \"StockCode\"]], df[\"Reorder\"]\n",
    "    all_stockcodes, all_customers = set(df[\"StockCode\"].to_numpy()), set(df[\"CustomerID\"].to_numpy())\n",
    "    \n",
    "    encoder_customer = OneHotEncoder(handle_unknown='ignore', sparse=False)\n",
    "    encoder_stockcodes = OneHotEncoder(handle_unknown='ignore', sparse=False)\n",
    "    \n",
    "    encoder_customer.fit(np.array(list(all_customers))[..., np.newaxis])\n",
    "    encoder_stockcodes.fit(np.array(list(all_stockcodes))[..., np.newaxis])\n",
    "    \n",
    "    customer_encoded = pd.DataFrame(encoder_customer.transform(X[\"CustomerID\"][..., np.newaxis]))\n",
    "    customer_encoded.rename(columns={i: f\"c{i}\" for i in range(len(encoder_customer.categories_[0]))}, inplace=True)\n",
    "    \n",
    "    stockcodes_encoded = pd.DataFrame(encoder_stockcodes.transform(X[\"StockCode\"][..., np.newaxis]))\n",
    "    stockcodes_encoded.rename(columns={i: f\"s{i}\" for i in range(len(encoder_stockcodes.categories_[0]))}, inplace=True)\n",
    "    \n",
    "    X = pd.concat([customer_encoded, stockcodes_encoded], axis=1)\n",
    "    \n",
    "    del stockcodes_encoded\n",
    "    del customer_encoded\n",
    "    \n",
    "    return X, y"
   ]
  },
  {
   "cell_type": "code",
   "execution_count": 8,
   "id": "bdf3fb14",
   "metadata": {},
   "outputs": [],
   "source": [
    "X_train, y_train = encode_data(train)"
   ]
  },
  {
   "cell_type": "code",
   "execution_count": 9,
   "id": "3d612c99",
   "metadata": {},
   "outputs": [],
   "source": [
    "X_test, y_test = encode_data(test)"
   ]
  },
  {
   "cell_type": "code",
   "execution_count": 10,
   "id": "f92f4f49",
   "metadata": {},
   "outputs": [],
   "source": [
    "pca = PCA(n_components=6)\n",
    "\n",
    "X_train = pca.fit_transform(X_train)\n",
    "X_test = pca.fit_transform(X_test)"
   ]
  },
  {
   "cell_type": "code",
   "execution_count": 11,
   "id": "811732d5",
   "metadata": {},
   "outputs": [
    {
     "data": {
      "text/plain": [
       "array([0.00260294, 0.00245297, 0.00224153, 0.00222006, 0.0021025 ,\n",
       "       0.00207038])"
      ]
     },
     "execution_count": 11,
     "metadata": {},
     "output_type": "execute_result"
    }
   ],
   "source": [
    "pca.explained_variance_"
   ]
  },
  {
   "cell_type": "markdown",
   "id": "116b146a",
   "metadata": {},
   "source": [
    "### 3. Building Model"
   ]
  },
  {
   "cell_type": "code",
   "execution_count": 12,
   "id": "4e695aff",
   "metadata": {},
   "outputs": [],
   "source": [
    "model = CatBoostClassifier(iterations=7000,\n",
    "                           task_type=\"GPU\",\n",
    "                           learning_rate=0.03,\n",
    "                           depth=5,\n",
    "                           devices='0',\n",
    "                           eval_metric='AUC')"
   ]
  },
  {
   "cell_type": "code",
   "execution_count": null,
   "id": "12c934c6",
   "metadata": {},
   "outputs": [],
   "source": [
    "model.fit(X_train,\n",
    "          y_train,\n",
    "          verbose=True)"
   ]
  },
  {
   "cell_type": "code",
   "execution_count": 14,
   "id": "ff1cd21b",
   "metadata": {},
   "outputs": [],
   "source": [
    "y_pred = model.predict(X_test)"
   ]
  },
  {
   "cell_type": "code",
   "execution_count": 15,
   "id": "b3e22f9c",
   "metadata": {
    "scrolled": true
   },
   "outputs": [
    {
     "name": "stdout",
     "output_type": "stream",
     "text": [
      "Balanced accuracy: 0.86\n"
     ]
    }
   ],
   "source": [
    "balanced_accuracy = balanced_accuracy_score(y_test, y_pred)\n",
    "result = f\"Balanced accuracy: {balanced_accuracy:.2f}\"\n",
    "print(result)"
   ]
  },
  {
   "cell_type": "markdown",
   "id": "60af8101",
   "metadata": {},
   "source": [
    "### 4. Inference"
   ]
  },
  {
   "cell_type": "code",
   "execution_count": 16,
   "id": "e678e639",
   "metadata": {},
   "outputs": [],
   "source": [
    "def predict_cart(customer_id):\n",
    "    all_stockcodes, all_customers = set(df[\"StockCode\"].to_numpy()), set(df[\"CustomerID\"].to_numpy())\n",
    "    X = np.array(list(itertools.product([customer_id], all_stockcodes)))\n",
    "    X = pd.DataFrame(data=X, columns=[\"CustomerID\", \"StockCode\"])\n",
    "    \n",
    "    encoder_customer = OneHotEncoder(handle_unknown='ignore', sparse=False)\n",
    "    encoder_stockcodes = OneHotEncoder(handle_unknown='ignore', sparse=False)\n",
    "    \n",
    "    encoder_customer.fit(np.array(list(all_customers))[..., np.newaxis])\n",
    "    encoder_stockcodes.fit(np.array(list(all_stockcodes))[..., np.newaxis])\n",
    "    \n",
    "    customer_encoded = pd.DataFrame(encoder_customer.transform(X[\"CustomerID\"][..., np.newaxis]))\n",
    "    customer_encoded.rename(columns={i: f\"c{i}\" for i in range(len(encoder_customer.categories_[0]))}, inplace=True)\n",
    "    \n",
    "    stockcodes_encoded = pd.DataFrame(encoder_stockcodes.transform(X[\"StockCode\"][..., np.newaxis]))\n",
    "    stockcodes_encoded.rename(columns={i: f\"s{i}\" for i in range(len(encoder_stockcodes.categories_[0]))}, inplace=True)\n",
    "    \n",
    "    X = pd.concat([customer_encoded, stockcodes_encoded], axis=1)\n",
    "    \n",
    "    cart_ = model.predict(X)\n",
    "    \n",
    "    mapping = get_map()\n",
    "    \n",
    "    indices = np.nonzero(cart_)[0]\n",
    "    \n",
    "    cart = []\n",
    "    for idx in indices:\n",
    "        index = encoder_stockcodes.categories_[0][idx]\n",
    "        product = mapping.iloc[mapping.index.get_loc(index)]\n",
    "        if len(product) > 1:\n",
    "            product = product.iloc[0]\n",
    "\n",
    "        cart.append(product.Description)\n",
    "    \n",
    "    return cart "
   ]
  },
  {
   "cell_type": "code",
   "execution_count": 17,
   "id": "e679bd51",
   "metadata": {
    "scrolled": true
   },
   "outputs": [
    {
     "data": {
      "text/plain": [
       "['vintage bead pink evening bag',\n",
       " 'blue daisy mobile',\n",
       " 'charlie & lola wastepaper bin flora',\n",
       " '6 rocket balloons ',\n",
       " 'party pizza dish red retrospot',\n",
       " 'food cover with beads set 2 ']"
      ]
     },
     "execution_count": 17,
     "metadata": {},
     "output_type": "execute_result"
    }
   ],
   "source": [
    "predict_cart(15819)"
   ]
  }
 ],
 "metadata": {
  "kernelspec": {
   "display_name": "Python 3",
   "language": "python",
   "name": "python3"
  },
  "language_info": {
   "codemirror_mode": {
    "name": "ipython",
    "version": 3
   },
   "file_extension": ".py",
   "mimetype": "text/x-python",
   "name": "python",
   "nbconvert_exporter": "python",
   "pygments_lexer": "ipython3",
   "version": "3.9.7"
  }
 },
 "nbformat": 4,
 "nbformat_minor": 5
}
